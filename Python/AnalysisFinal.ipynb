{
 "cells": [
  {
   "cell_type": "markdown",
   "id": "4c02dbad-86bc-4f7b-8d3a-c15041c36ef7",
   "metadata": {},
   "source": [
    "# OLIST Analysis\n",
    "Data From: https://www.kaggle.com/datasets/olistbr/brazilian-ecommerce\n",
    "\n",
    "This Notebook I will be merging all data together (9 Files), and diving into the data to see what kind of information I can extract. I am curious about:\n",
    "* Which States/Cities generate the most revenue? What are the products or categories that accounts for that?"
   ]
  },
  {
   "cell_type": "markdown",
   "id": "6c87cc2b-0b4e-4263-915c-8ea3af594531",
   "metadata": {},
   "source": [
    "## Intro"
   ]
  },
  {
   "cell_type": "code",
   "execution_count": 4,
   "id": "3b7d8e9b-ba42-4097-847d-0d004e58a3fb",
   "metadata": {},
   "outputs": [],
   "source": [
    "# Libraries\n",
    "import pandas as pd\n",
    "import numpy as np\n",
    "\n",
    "import matplotlib.pyplot as plt\n",
    "import seaborn as sns\n",
    "\n",
    "import statsmodels.api as sm"
   ]
  },
  {
   "cell_type": "code",
   "execution_count": null,
   "id": "8e840d64-461d-4c45-b076-451918cb1a95",
   "metadata": {},
   "outputs": [],
   "source": [
    "# Data\n",
    "order_df = pd.read_csv('../data/raw/olist_orders_dataset.csv')\n",
    "items_df = pd.read_csv('../data/raw/olist_order_items_dataset.csv')"
   ]
  },
  {
   "cell_type": "code",
   "execution_count": null,
   "id": "6c032cfe-6f40-45cd-ba2d-b4c9053c0b15",
   "metadata": {},
   "outputs": [],
   "source": []
  },
  {
   "cell_type": "code",
   "execution_count": null,
   "id": "80010d3b-bf8d-449a-8853-42b85b7265cb",
   "metadata": {},
   "outputs": [],
   "source": []
  },
  {
   "cell_type": "code",
   "execution_count": null,
   "id": "55835e2d-f662-41d5-9cd5-d6a8a5216676",
   "metadata": {},
   "outputs": [],
   "source": []
  }
 ],
 "metadata": {
  "kernelspec": {
   "display_name": "Python 3 (ipykernel)",
   "language": "python",
   "name": "python3"
  },
  "language_info": {
   "codemirror_mode": {
    "name": "ipython",
    "version": 3
   },
   "file_extension": ".py",
   "mimetype": "text/x-python",
   "name": "python",
   "nbconvert_exporter": "python",
   "pygments_lexer": "ipython3",
   "version": "3.8.13"
  }
 },
 "nbformat": 4,
 "nbformat_minor": 5
}
